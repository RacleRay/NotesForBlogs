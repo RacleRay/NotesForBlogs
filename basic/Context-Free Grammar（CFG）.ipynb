{
 "cells": [
  {
   "cell_type": "markdown",
   "metadata": {},
   "source": [
    "## Context-Free Grammar（CFG）"
   ]
  },
  {
   "cell_type": "code",
   "execution_count": 12,
   "metadata": {
    "ExecuteTime": {
     "end_time": "2019-07-02T11:35:54.618908Z",
     "start_time": "2019-07-02T11:35:11.976032Z"
    }
   },
   "outputs": [
    {
     "name": "stdout",
     "output_type": "stream",
     "text": [
      "test_nltk_cfg_en\n",
      "[Tree('S', [Tree('NP', ['Mary']), Tree('VP', [Tree('V', ['saw']), Tree('NP', ['Bob'])])])]\n",
      "test_nltk_cfg_zh\n",
      "Tree [1]: (S (N 我们) (VP (V 尊敬) (N 老师)))\n",
      "Draw tree with Display ...\n",
      "[Tree('S', [Tree('N', ['我们']), Tree('VP', [Tree('V', ['尊敬']), Tree('N', ['老师'])])])]\n"
     ]
    }
   ],
   "source": [
    "import nltk, os, jieba\n",
    "from nltk.tree import Tree\n",
    "from nltk.draw import TreeWidget\n",
    "from nltk.draw.tree import TreeView\n",
    "from nltk.draw.util import CanvasFrame\n",
    "from nltk.parse import RecursiveDescentParser\n",
    "\n",
    "\n",
    "class Cfg():\n",
    "    '''\n",
    "    使用nltk解析语法树\n",
    "    '''\n",
    "    def test_sample(self):\n",
    "        print(\"test_sample\")\n",
    "        # This is a CFG grammar, where:\n",
    "        # Start Symbol : S\n",
    "        # Nonterminal : NP,VP,DT,NN,VB\n",
    "        # Terminal : \"I\", \"a\" ,\"saw\" ,\"dog\"\n",
    "        grammar = nltk.grammar.CFG.fromstring(\"\"\"\n",
    "            S -> NP VP\n",
    "            NP -> DT NN | NN\n",
    "            VP -> VB NP\n",
    "            DT -> \"a\"\n",
    "            NN -> \"I\" | \"dog\"\n",
    "            VB -> \"saw\"\n",
    "        \"\"\")\n",
    "        sentence = \"I saw a dog\".split()\n",
    "        parser = RecursiveDescentParser(grammar)\n",
    "        final_tree = parser.parse(sentence)\n",
    "        for i in final_tree:\n",
    "            print(i)\n",
    "\n",
    "    def cfg_en(self):\n",
    "        print(\"test_nltk_cfg_en\")\n",
    "        # 定义规则\n",
    "        grammar = nltk.CFG.fromstring(\"\"\"\n",
    "         S -> NP VP\n",
    "         VP -> V NP | V NP PP\n",
    "         V -> \"saw\" | \"ate\"\n",
    "         NP -> \"John\" | \"Mary\" | \"Bob\" | Det N | Det N PP\n",
    "         Det -> \"a\" | \"an\" | \"the\" | \"my\"\n",
    "         N -> \"dog\" | \"cat\" | \"cookie\" | \"park\"\n",
    "         PP -> P NP\n",
    "         P -> \"in\" | \"on\" | \"by\" | \"with\"\n",
    "         \"\"\")\n",
    "\n",
    "        sent = \"Mary saw Bob\".split()\n",
    "        rd_parser = RecursiveDescentParser(grammar)\n",
    "\n",
    "        result = []\n",
    "        for i, tree in enumerate(rd_parser.parse(sent)):\n",
    "            result.append(tree)\n",
    "\n",
    "        assert len(result) > 0, \" CFG tree parse fail.\"\n",
    "        print(result)\n",
    "\n",
    "    def cfg_zh(self):\n",
    "        print(\"test_nltk_cfg_zh\")\n",
    "        # 定义规则\n",
    "        grammar = nltk.CFG.fromstring(\"\"\"\n",
    "             S -> N VP\n",
    "             VP -> V NP | V NP | V N\n",
    "             V -> \"尊敬\"\n",
    "             N -> \"我们\" | \"老师\" \n",
    "             \"\"\")\n",
    "        \n",
    "        sent = \"我们 尊敬 老师\".split()\n",
    "        rd_parser = RecursiveDescentParser(grammar)\n",
    "\n",
    "        result = []\n",
    "        for i, tree in enumerate(rd_parser.parse(sent)):\n",
    "            result.append(tree)\n",
    "            print(\"Tree [%s]: %s\" % (i + 1, tree))\n",
    "\n",
    "        assert len(result) > 0, \"Can not recognize CFG tree.\"\n",
    "        if len(result) == 1:\n",
    "            print(\"Draw tree with Display ...\")\n",
    "            result[0].draw()\n",
    "        else:\n",
    "            print(\"WARN: Get more then one trees.\")\n",
    "\n",
    "        print(result)\n",
    "\n",
    "\n",
    "if __name__ == '__main__':\n",
    "    cfg = Cfg()\n",
    "    cfg.cfg_en()\n",
    "    cfg.cfg_zh()"
   ]
  },
  {
   "attachments": {
    "image.png": {
     "image/png": "[encoded data removed]"
    }
   },
   "cell_type": "markdown",
   "metadata": {},
   "source": [
    "![image.png](attachment:image.png)"
   ]
  }
 ],
 "metadata": {
  "kernelspec": {
   "display_name": "Python 3",
   "language": "python",
   "name": "python3"
  },
  "language_info": {
   "codemirror_mode": {
    "name": "ipython",
    "version": 3
   },
   "file_extension": ".py",
   "mimetype": "text/x-python",
   "name": "python",
   "nbconvert_exporter": "python",
   "pygments_lexer": "ipython3",
   "version": "3.6.8"
  },
  "toc": {
   "base_numbering": 1,
   "nav_menu": {},
   "number_sections": true,
   "sideBar": true,
   "skip_h1_title": false,
   "title_cell": "Table of Contents",
   "title_sidebar": "Contents",
   "toc_cell": false,
   "toc_position": {},
   "toc_section_display": true,
   "toc_window_display": false
  },
  "varInspector": {
   "cols": {
    "lenName": 16,
    "lenType": 16,
    "lenVar": 40
   },
   "kernels_config": {
    "python": {
     "delete_cmd_postfix": "",
     "delete_cmd_prefix": "del ",
     "library": "var_list.py",
     "varRefreshCmd": "print(var_dic_list())"
    },
    "r": {
     "delete_cmd_postfix": ") ",
     "delete_cmd_prefix": "rm(",
     "library": "var_list.r",
     "varRefreshCmd": "cat(var_dic_list()) "
    }
   },
   "types_to_exclude": [
    "module",
    "function",
    "builtin_function_or_method",
    "instance",
    "_Feature"
   ],
   "window_display": false
  }
 },
 "nbformat": 4,
 "nbformat_minor": 2
}
